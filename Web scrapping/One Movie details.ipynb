{
 "cells": [
  {
   "cell_type": "code",
   "execution_count": 5,
   "id": "74e6f671-93e7-4d75-bb69-5a16d3b2075c",
   "metadata": {},
   "outputs": [],
   "source": [
    "# For one movie site extraction"
   ]
  },
  {
   "cell_type": "code",
   "execution_count": 6,
   "id": "3d959322-3fae-4de4-90ec-b33eaac8efbf",
   "metadata": {},
   "outputs": [],
   "source": [
    "import requests\n",
    "from bs4 import BeautifulSoup as BS\n",
    "sites=\"https://www.lyricstape.com/album/adipurush-jai-shri-ram-song-lyrics/1014/3060\"\n",
    "sitei= requests.get(sites)"
   ]
  },
  {
   "cell_type": "code",
   "execution_count": 4,
   "id": "d2f031a5-19f6-4a75-a2d6-3548b620a3d2",
   "metadata": {},
   "outputs": [
    {
     "name": "stdout",
     "output_type": "stream",
     "text": [
      "Adipurush\n",
      "Kriti Sanon,Prabhas,Saif Ali Khan\n",
      "Ajay Atul\n",
      "2023\n",
      "T-Series\n"
     ]
    }
   ],
   "source": [
    "sitesoup= BS(sitei.text,\"html.parser\")\n",
    "\n",
    "albdet=sitesoup.find('div', class_=\"col-xs-12 col-sm-12 col-md-4 col-lg-4 col-xl-4\")\n",
    "\n",
    "mdlist=albdet.find('ul',class_=\"text-left\")\n",
    "\n",
    "\n",
    "list_items = mdlist.find_all('li')\n",
    "values= []\n",
    "for item in list_items:\n",
    "    span_text = item.find('span').get_text()\n",
    "    text_content = item.get_text(strip=True)\n",
    "    cleaned_text = text_content.replace(span_text,text_content, 1).strip()\n",
    "    values.append(cleaned_text)\n",
    "mname = values[0].replace(\"Movie:\",\"\",1)\n",
    "mcast= values[1].replace(\"Cast:\",\"\",1)\n",
    "mdir= values[2].replace(\"Music Director:\",\"\",1)\n",
    "myr = values[3].replace(\"Year:\",\"\",1)\n",
    "mlabl = values[4].replace(\"Label:\",\"\",1)\n",
    "\n",
    "print(mname)\n",
    "print(mcast)\n",
    "print(mdir)\n",
    "print(myr)\n",
    "print(mlabl)"
   ]
  },
  {
   "cell_type": "code",
   "execution_count": null,
   "id": "5885f731",
   "metadata": {},
   "outputs": [],
   "source": []
  },
  {
   "cell_type": "markdown",
   "id": "ebcded9e",
   "metadata": {},
   "source": [
    "# # For song details"
   ]
  },
  {
   "cell_type": "code",
   "execution_count": 8,
   "id": "5df1cc1e",
   "metadata": {},
   "outputs": [
    {
     "name": "stdout",
     "output_type": "stream",
     "text": [
      "<div class=\"row\">\n",
      "<div class=\"frb frb-default col-xs-12 col-sm-12 col-md-6 col-lg-4 col-xl-4\" id=\"song_title\" style=\"box-shadow: 0 1px 2px 0 rgba(0, 0, 0, 0.2), 0 1px 6px 0 rgba(0, 0, 0, 0.17);\">\n",
      "<!-- box-shadow: 0 4px 8px 0 rgba(0, 0, 0, 0.2), 0 6px 20px 0 rgba(0, 0, 0, 0.19)-->\n",
      "<a href=\"https://www.lyricstape.com/album/adipurush-jai-shri-ram-song-lyrics/1014/3060\"><label for=\"radio-button-6\">\n",
      "<!-- <a href=\"\"><label for=\"radio-button-6\"> -->\n",
      "<img alt=\"\" src=\"https://www.lyricstape.com/assets/image/icon.png\" style=\"width:40px;height:40px;\n",
      "\n",
      "\t\t\"/>\n",
      "<span class=\"frb-title\" style=\"padding-left: 25px;\">జై  శ్రీరాం</span>\n",
      "<!-- <span class=\"frb-description\" style=\"color: #EE4C7C;    padding-left:70px;\">జై  శ్రీరాం</span> -->\n",
      "<br>\n",
      "<span class=\"frb-description\" style=\"color:#EE4C7C;padding-left:70px;\">Jai Shri Ram\n",
      "\n",
      "\n",
      "\t\t</span>\n",
      "<input name=\"getsongId\" type=\"hidden\" value=\"3060\"/>\n",
      "</br></label></a>\n",
      "</div>\n",
      "<div class=\"frb frb-default col-xs-12 col-sm-12 col-md-6 col-lg-4 col-xl-4\" id=\"song_title\" style=\"box-shadow: 0 1px 2px 0 rgba(0, 0, 0, 0.2), 0 1px 6px 0 rgba(0, 0, 0, 0.17);\">\n",
      "<!-- box-shadow: 0 4px 8px 0 rgba(0, 0, 0, 0.2), 0 6px 20px 0 rgba(0, 0, 0, 0.19)-->\n",
      "<a href=\"https://www.lyricstape.com/album/adipurush-ram-sita-ram-song-lyrics/1014/3064\"><label for=\"radio-button-6\">\n",
      "<!-- <a href=\"\"><label for=\"radio-button-6\"> -->\n",
      "<img alt=\"\" src=\"https://www.lyricstape.com/assets/image/icon.png\" style=\"width:40px;height:40px;\n",
      "\n",
      "\t\t\"/>\n",
      "<span class=\"frb-title\" style=\"padding-left: 25px;\">రాం  సీతా  రాం...</span>\n",
      "<!-- <span class=\"frb-description\" style=\"color: #EE4C7C;    padding-left:70px;\">రాం  సీతా  రాం</span> -->\n",
      "<br>\n",
      "<span class=\"frb-description\" style=\"color:#EE4C7C;padding-left:70px;\">Ram Sita Ram\n",
      "\n",
      "\n",
      "\t\t</span>\n",
      "<input name=\"getsongId\" type=\"hidden\" value=\"3064\"/>\n",
      "</br></label></a>\n",
      "</div>\n",
      "<div class=\"frb frb-default col-xs-12 col-sm-12 col-md-6 col-lg-4 col-xl-4\" id=\"song_title\" style=\"box-shadow: 0 1px 2px 0 rgba(0, 0, 0, 0.2), 0 1px 6px 0 rgba(0, 0, 0, 0.17);\">\n",
      "<!-- box-shadow: 0 4px 8px 0 rgba(0, 0, 0, 0.2), 0 6px 20px 0 rgba(0, 0, 0, 0.19)-->\n",
      "<a href=\"https://www.lyricstape.com/album/adipurush-priya-mithunam-song-lyrics/1014/3065\"><label for=\"radio-button-6\">\n",
      "<!-- <a href=\"\"><label for=\"radio-button-6\"> -->\n",
      "<img alt=\"\" src=\"https://www.lyricstape.com/assets/image/icon.png\" style=\"width:40px;height:40px;\n",
      "\n",
      "\t\t\"/>\n",
      "<span class=\"frb-title\" style=\"padding-left: 25px;\">ప్రియ  మిథునం...</span>\n",
      "<!-- <span class=\"frb-description\" style=\"color: #EE4C7C;    padding-left:70px;\">ప్రియ  మిథునం</span> -->\n",
      "<br/>\n",
      "<span class=\"frb-description\" style=\"color:#EE4C7C;padding-left:70px;\">Priya Mithunam\n",
      "\n",
      "\n",
      "\t\t</span>\n",
      "<input name=\"getsongId\" type=\"hidden\" value=\"3065\"/>\n",
      "</label></a>\n",
      "</div>\n",
      "<div class=\"frb frb-default col-xs-12 col-sm-12 col-md-6 col-lg-4 col-xl-4\" id=\"song_title\" style=\"box-shadow: 0 1px 2px 0 rgba(0, 0, 0, 0.2), 0 1px 6px 0 rgba(0, 0, 0, 0.17);\">\n",
      "<!-- box-shadow: 0 4px 8px 0 rgba(0, 0, 0, 0.2), 0 6px 20px 0 rgba(0, 0, 0, 0.19)-->\n",
      "<a href=\"https://www.lyricstape.com/album/adipurush-huppa-huiya-song-lyrics/1014/3066\"><label for=\"radio-button-6\">\n",
      "<!-- <a href=\"\"><label for=\"radio-button-6\"> -->\n",
      "<img alt=\"\" src=\"https://www.lyricstape.com/assets/image/icon.png\" style=\"width:40px;height:40px;\n",
      "\n",
      "\t\t\"/>\n",
      "<span class=\"frb-title\" style=\"padding-left: 25px;\">హుప్పా  హుయ్యా...</span>\n",
      "<!-- <span class=\"frb-description\" style=\"color: #EE4C7C;    padding-left:70px;\">హుప్పా  హుయ్యా</span> -->\n",
      "<br/>\n",
      "<span class=\"frb-description\" style=\"color:#EE4C7C;padding-left:70px;\">Huppa Huiya\n",
      "\n",
      "\n",
      "\t\t</span>\n",
      "<input name=\"getsongId\" type=\"hidden\" value=\"3066\"/>\n",
      "</label></a>\n",
      "</div>\n",
      "<div class=\"frb frb-default col-xs-12 col-sm-12 col-md-6 col-lg-4 col-xl-4\" id=\"song_title\" style=\"box-shadow: 0 1px 2px 0 rgba(0, 0, 0, 0.2), 0 1px 6px 0 rgba(0, 0, 0, 0.17);\">\n",
      "<!-- box-shadow: 0 4px 8px 0 rgba(0, 0, 0, 0.2), 0 6px 20px 0 rgba(0, 0, 0, 0.19)-->\n",
      "<a href=\"https://www.lyricstape.com/album/adipurush-shivoham-song-lyrics/1014/3067\"><label for=\"radio-button-6\">\n",
      "<!-- <a href=\"\"><label for=\"radio-button-6\"> -->\n",
      "<img alt=\"\" src=\"https://www.lyricstape.com/assets/image/icon.png\" style=\"width:40px;height:40px;\n",
      "\n",
      "\t\t\"/>\n",
      "<span class=\"frb-title\" style=\"padding-left: 25px;\">శివోహం</span>\n",
      "<!-- <span class=\"frb-description\" style=\"color: #EE4C7C;    padding-left:70px;\">శివోహం</span> -->\n",
      "<br/>\n",
      "<span class=\"frb-description\" style=\"color:#EE4C7C;padding-left:70px;\">Shivoham\n",
      "\n",
      "\n",
      "\t\t</span>\n",
      "<input name=\"getsongId\" type=\"hidden\" value=\"3067\"/>\n",
      "</label></a>\n",
      "</div>\n",
      "</div>\n"
     ]
    }
   ],
   "source": [
    "trks=sitesoup.find('div',class_=\"col-xs-12 col-sm-12 col-md-8 col-lg-8 col-xl-8\").find('div',class_=\"frb-group\").find('div',class_=\"row\")\n",
    "print(trks)"
   ]
  },
  {
   "cell_type": "code",
   "execution_count": 10,
   "id": "32b89e68",
   "metadata": {},
   "outputs": [
    {
     "name": "stdout",
     "output_type": "stream",
     "text": [
      "None\n"
     ]
    }
   ],
   "source": [
    "trkd=trks.find('h6', id_='telugutext')\n",
    "print(trkd"
   ]
  },
  {
   "cell_type": "code",
   "execution_count": null,
   "id": "fed541dc",
   "metadata": {},
   "outputs": [],
   "source": []
  }
 ],
 "metadata": {
  "kernelspec": {
   "display_name": "Python 3 (ipykernel)",
   "language": "python",
   "name": "python3"
  },
  "language_info": {
   "codemirror_mode": {
    "name": "ipython",
    "version": 3
   },
   "file_extension": ".py",
   "mimetype": "text/x-python",
   "name": "python",
   "nbconvert_exporter": "python",
   "pygments_lexer": "ipython3",
   "version": "3.11.3"
  }
 },
 "nbformat": 4,
 "nbformat_minor": 5
}
